{
 "cells": [
  {
   "cell_type": "markdown",
   "metadata": {},
   "source": [
    "# Use the library cirpy\n",
    "Ref: https://github.com/mcs07/CIRpy"
   ]
  },
  {
   "cell_type": "code",
   "execution_count": null,
   "metadata": {},
   "outputs": [],
   "source": [
    "# Get smiles based on chemical CAS number\n",
    "import cirpy\n",
    "data = pd.read_excel(\"Data.xlsx\", sheet_name = \"Sheet1\")\n",
    "CASes = []\n",
    "identifiers = data[\"CAS\"].values\n",
    "for CAS in identifiers:\n",
    "    CASes += [CAS, cirpy.resolve(CAS, 'smiles')]\n",
    "New = np.array(CASes).reshape(-1,2)\n",
    "PD = pd.DataFrame(New)\n",
    "PD.to_excel(\"smiles.xlsx\")"
   ]
  },
  {
   "cell_type": "code",
   "execution_count": null,
   "metadata": {},
   "outputs": [],
   "source": [
    "## Get smiles based on chemical name\n",
    "import cirpy\n",
    "data = pd.read_excel(\"Data.xlsx\", sheet_name = \"Sheet1\")\n",
    "names = []\n",
    "identifiers = data[\"Name\"].values\n",
    "for name in identifiers:\n",
    "    names += [name, cirpy.resolve(name, 'smiles')]\n",
    "New = np.array(names).reshape(-1, 2)\n",
    "PD = pd.DataFrame(New)\n",
    "PD.to_excel(\"smiles.xlsx\")"
   ]
  },
  {
   "cell_type": "code",
   "execution_count": 9,
   "metadata": {},
   "outputs": [
    {
     "data": {
      "text/plain": [
       "['1336-35-2',\n",
       " '108-95-2',\n",
       " '63496-48-0',\n",
       " '73607-76-8',\n",
       " '61788-41-8',\n",
       " '14534-23-7',\n",
       " '50356-25-7',\n",
       " '8002-07-1',\n",
       " '27073-41-2']"
      ]
     },
     "execution_count": 9,
     "metadata": {},
     "output_type": "execute_result"
    }
   ],
   "source": [
    "import cirpy\n",
    "\n",
    "cirpy.resolve('Oc1ccccc1', 'cas')"
   ]
  },
  {
   "cell_type": "markdown",
   "metadata": {},
   "source": [
    "# Use the website http://cactus.nci.nih.gov/"
   ]
  },
  {
   "cell_type": "code",
   "execution_count": null,
   "metadata": {},
   "outputs": [],
   "source": [
    "import pandas as pd\n",
    "import numpy as np\n",
    "from urllib.request import urlopen\n",
    "\n",
    "\n",
    "def CIRconvert(ids):\n",
    "    try:\n",
    "        url = 'http://cactus.nci.nih.gov/chemical/structure/' + ids + '/smiles'\n",
    "        ans = urlopen(url).read().decode('utf8')\n",
    "        return ans\n",
    "    except:\n",
    "        return 'Did not work'\n",
    "\n",
    "\n",
    "data = pd.read_excel(\"Data.xlsx\", sheet_name=\"Sheet1\")\n",
    "CASes = []\n",
    "identifiers = data[\"CAS\"].values\n",
    "for CAS in identifiers:\n",
    "    CASes += [CAS,CIRconvert(CAS)]\n",
    "    New = np.array(CASes).reshape(-1, 2)\n",
    "    PD = pd.DataFrame(New)\n",
    "PD.to_excel(\"smiles.xlsx\", index=False)"
   ]
  },
  {
   "cell_type": "code",
   "execution_count": 12,
   "metadata": {},
   "outputs": [
    {
     "data": {
      "text/plain": [
       "'Oc1ccccc1'"
      ]
     },
     "execution_count": 12,
     "metadata": {},
     "output_type": "execute_result"
    }
   ],
   "source": [
    "from urllib.request import urlopen\n",
    "id = '108-95-2'\n",
    "url = 'http://cactus.nci.nih.gov/chemical/structure/' + id + '/smiles'\n",
    "smiles = urlopen(url).read().decode('utf8')\n",
    "smiles"
   ]
  },
  {
   "cell_type": "markdown",
   "metadata": {},
   "source": [
    "# Use the website https://echa.europa.eu/"
   ]
  },
  {
   "cell_type": "code",
   "execution_count": null,
   "metadata": {},
   "outputs": [],
   "source": [
    "import selenium.webdriver as webdriver\n",
    "from selenium.webdriver.common.action_chains import ActionChains\n",
    "from webdriver_manager.chrome import ChromeDriverManager\n",
    "import pandas as pd\n",
    "import numpy as np\n",
    "import re\n",
    "from urllib.request import urlopen\n",
    "\n",
    "\n",
    "def get_results(CAS):\n",
    "    url = \"https://echa.europa.eu/advanced-search-for-chemicals?p_p_id=dissadvancedsearch_WAR_disssearchportlet&p_p_lifecycle=0&p_p_col_id=column-1&p_p_col_count=1\"\n",
    "    driver = webdriver.Chrome(ChromeDriverManager().install())\n",
    "    driver.get(url)\n",
    "    search_box = driver.find_element_by_xpath('//*[@id=\"_dissadvancedsearch_WAR_disssearchportlet_casNumber\"]')\n",
    "    search_box.send_keys(CAS)\n",
    "    search_box.submit()\n",
    "    driver.implicitly_wait(100)\n",
    "    terms = driver.find_element_by_xpath('//*[@id=\"_viewsubstances_WAR_echarevsubstanceportlet_acceptDisclaimerButton\"]')\n",
    "    if terms == True:\n",
    "        ActionChains(driver).move_to_element(terms).click().perform()\n",
    "        driver.implicitly_wait(100)\n",
    "    try:\n",
    "        driver.find_element_by_xpath('//*[@id=\"_dissadvancedsearch_WAR_disssearchportlet_rmlSearchResultVOsSearchContainerSearchContainer\"]/table/tbody/tr[1]/td[4]/a')\n",
    "        links = driver.find_element_by_xpath('//*[@id=\"_dissadvancedsearch_WAR_disssearchportlet_rmlSearchResultVOsSearchContainerSearchContainer\"]/table/tbody/tr[1]/td[4]/a')\n",
    "        href = links.get_attribute(\"href\")\n",
    "        website = urlopen(href).read().decode('utf8')\n",
    "        if re.search(r\"SMILES:</span> </dt> <dd>[^<]+</dd>\", website):\n",
    "            details = re.search(r\"SMILES:</span> </dt> <dd>[^<]+</dd>\", website)\n",
    "            details = details.group(0)\n",
    "            smiles = details[details.find('<dd>') + 4: -5]\n",
    "            driver.close()\n",
    "            return smiles\n",
    "        else:\n",
    "            return 'No results found'\n",
    "    except:\n",
    "        driver.close()\n",
    "        return 'No results found'\n",
    "\n",
    "\n",
    "data = pd.read_excel(\"Data.xlsx\", sheet_name = \"Sheet1\")\n",
    "CASes = []\n",
    "identifiers = data[\"CAS\"].values\n",
    "for CAS in identifiers:\n",
    "    CASes += [CAS,get_results(CAS)]\n",
    "    New = np.array(CASes).reshape(-1, 2)\n",
    "    PD = pd.DataFrame(New)\n",
    "    PD.to_excel(\"smiles.xlsx\")"
   ]
  },
  {
   "cell_type": "markdown",
   "metadata": {},
   "source": [
    "# Use the website http://www.ambinter.com/"
   ]
  },
  {
   "cell_type": "code",
   "execution_count": null,
   "metadata": {},
   "outputs": [],
   "source": [
    "from urllib.request import urlopen\n",
    "from selenium import webdriver\n",
    "\n",
    "def get_results(CAS):\n",
    "    url = \"http://www.ambinter.com/search/\"\n",
    "    driver = webdriver.Chrome(ChromeDriverManager().install())\n",
    "    driver.get(url)\n",
    "    search_box = driver.find_element_by_id(\"quick_search_input\")\n",
    "    search_box.send_keys(CAS)\n",
    "    search_box.submit()\n",
    "    try:\n",
    "        links = driver.find_elements_by_xpath('//*[@id=\"resultArea\"]/div[2]/div/table/tbody/tr/td[1]/a')\n",
    "        href = links[0].get_attribute(\"href\")\n",
    "        website = urlopen(href).read().decode('utf8')\n",
    "        details = re.search(r'<th>Smiles</th><td>.*', website)\n",
    "        details = details.group(0)\n",
    "        smiles = details[details.find('</th><td>') + 9: -5]\n",
    "        driver.close()\n",
    "        return smiles\n",
    "\n",
    "    except:\n",
    "        driver.close()\n",
    "        return 'No results found'\n",
    "\n",
    "\n",
    "data = pd.read_excel(\"Data.xlsx\", sheet_name = \"Sheet1\")\n",
    "CASes = []\n",
    "identifiers = data[\"CAS\"].values\n",
    "for CAS in identifiers:\n",
    "    CASes += [CAS, get_results(CAS)]\n",
    "    New = np.array(CASes).reshape(-1, 2)\n",
    "    PD = pd.DataFrame(New)\n",
    "    PD.to_excel(\"smiles.xlsx\")\n"
   ]
  }
 ],
 "metadata": {
  "kernelspec": {
   "display_name": "Python 3",
   "language": "python",
   "name": "python3"
  },
  "language_info": {
   "codemirror_mode": {
    "name": "ipython",
    "version": 3
   },
   "file_extension": ".py",
   "mimetype": "text/x-python",
   "name": "python",
   "nbconvert_exporter": "python",
   "pygments_lexer": "ipython3",
   "version": "3.8.3"
  },
  "varInspector": {
   "cols": {
    "lenName": 16,
    "lenType": 16,
    "lenVar": 40
   },
   "kernels_config": {
    "python": {
     "delete_cmd_postfix": "",
     "delete_cmd_prefix": "del ",
     "library": "var_list.py",
     "varRefreshCmd": "print(var_dic_list())"
    },
    "r": {
     "delete_cmd_postfix": ") ",
     "delete_cmd_prefix": "rm(",
     "library": "var_list.r",
     "varRefreshCmd": "cat(var_dic_list()) "
    }
   },
   "types_to_exclude": [
    "module",
    "function",
    "builtin_function_or_method",
    "instance",
    "_Feature"
   ],
   "window_display": false
  }
 },
 "nbformat": 4,
 "nbformat_minor": 4
}
